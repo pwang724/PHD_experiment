{
 "cells": [
  {
   "cell_type": "code",
   "execution_count": 1,
   "outputs": [],
   "source": [
    "%load_ext autoreload\n",
    "%autoreload 2\n",
    "import os\n",
    "import glob\n",
    "import matplotlib.pyplot as plt\n",
    "import numpy as np"
   ],
   "metadata": {
    "collapsed": false,
    "pycharm": {
     "name": "#%%\n"
    }
   }
  },
  {
   "cell_type": "markdown",
   "source": [
    "Relevant info for all mice in the mpfc composite condition is accessed under _CONSTANTS/conditions.py. Note that\n",
    "pretraining odors, discrimination odors, etc are all given per individual mouse, which in this case is M2, M3, M4, M6"
   ],
   "metadata": {
    "collapsed": false,
    "pycharm": {
     "name": "#%% md\n"
    }
   }
  },
  {
   "cell_type": "code",
   "execution_count": 2,
   "outputs": [
    {
     "data": {
      "text/plain": "mappingproxy({'__module__': '_CONSTANTS.conditions',\n              'name': 'MPFC_COMPOSITE',\n              'paths': ['I:/IMPORTANT DATA/DATA_2P/M2_MPFC/training',\n               'I:/IMPORTANT DATA/DATA_2P/M3_MPFC/training',\n               'I:/IMPORTANT DATA/DATA_2P/M4_MPFC/training',\n               'I:/IMPORTANT DATA/DATA_2P/M6_MPFC/training'],\n              'dt_odors': [['pin', 'msy', 'euy', 'lim'],\n               ['pin', 'msy', 'euy', 'lim'],\n               ['pin', 'msy', 'euy', 'lim'],\n               ['pin', 'msy', 'euy', 'lim'],\n               ['pin', 'msy', 'euy', 'lim']],\n              'dt_csp': [['pin', 'msy'],\n               ['pin', 'msy'],\n               ['pin', 'msy'],\n               ['pin', 'msy'],\n               ['pin', 'msy']],\n              'pt_odors': [['naive', 'oct'],\n               ['naive', 'oct'],\n               ['naive', 'oct'],\n               ['naive', 'oct']],\n              'pt_csp': [['oct'], ['oct'], ['oct'], ['oct']],\n              'timing_override': [True, True, True, True],\n              'training_start_day': [1, 1, 1, 1],\n              'naive_dt_day': [0, 0, 0, 0],\n              'naive_pt_day': [1, 1, 1, 1],\n              'last_pt_day': [2, 2, 3, 3],\n              'first_dt_day': [3, 3, 4, 4],\n              'min_neurons': 49,\n              '__dict__': <attribute '__dict__' of 'MPFC_COMPOSITE' objects>,\n              '__weakref__': <attribute '__weakref__' of 'MPFC_COMPOSITE' objects>,\n              '__doc__': None})"
     },
     "execution_count": 2,
     "metadata": {},
     "output_type": "execute_result"
    }
   ],
   "source": [
    "from _CONSTANTS import conditions\n",
    "\n",
    "conditions.MPFC_COMPOSITE.__dict__"
   ],
   "metadata": {
    "collapsed": false,
    "pycharm": {
     "name": "#%%\n"
    }
   }
  },
  {
   "cell_type": "markdown",
   "source": [
    "These are my definintions of days for pretraining (pt) and discrimination (dt). You can also be assessed under\n",
    "statistics/main_composite, line 191. You can also look through how I analyzed everything and made plots under that file."
   ],
   "metadata": {
    "collapsed": false,
    "pycharm": {
     "name": "#%% md\n"
    }
   }
  },
  {
   "cell_type": "code",
   "execution_count": 15,
   "outputs": [],
   "source": [
    "data_directory = r'C:\\Users\\Peter\\Desktop\\PYTHON\\PHD_experiment\\_DATA\\timepoint\\MPFC_COMPOSITE'\n",
    "pt_start = [1, 1, 1, 1]\n",
    "pt_learned = [3, 3, 3, 3]\n",
    "dt_naive = [0, 0, 0, 0]\n",
    "dt_start = [3, 3, 4, 4]\n",
    "dt_learned = [4, 4, 5, 5]\n",
    "dt_end = [8, 8, 5, 8]"
   ],
   "metadata": {
    "collapsed": false,
    "pycharm": {
     "name": "#%%\n"
    }
   }
  },
  {
   "cell_type": "markdown",
   "source": [
    "Under the data folder are files organized by mouse then day, with a .npy file and a .pkl file per day of imaging"
   ],
   "metadata": {
    "collapsed": false,
    "pycharm": {
     "name": "#%% md\n"
    }
   }
  },
  {
   "cell_type": "code",
   "execution_count": 16,
   "outputs": [
    {
     "data": {
      "text/plain": "[('C:\\\\Users\\\\Peter\\\\Desktop\\\\PYTHON\\\\PHD_experiment\\\\_DATA\\\\timepoint\\\\MPFC_COMPOSITE\\\\M2_MPFC__3-21-2018__300.npy',\n  'C:\\\\Users\\\\Peter\\\\Desktop\\\\PYTHON\\\\PHD_experiment\\\\_DATA\\\\timepoint\\\\MPFC_COMPOSITE\\\\M2_MPFC__3-21-2018__300.pkl'),\n ('C:\\\\Users\\\\Peter\\\\Desktop\\\\PYTHON\\\\PHD_experiment\\\\_DATA\\\\timepoint\\\\MPFC_COMPOSITE\\\\M2_MPFC__3-23-2018__300.npy',\n  'C:\\\\Users\\\\Peter\\\\Desktop\\\\PYTHON\\\\PHD_experiment\\\\_DATA\\\\timepoint\\\\MPFC_COMPOSITE\\\\M2_MPFC__3-23-2018__300.pkl'),\n ('C:\\\\Users\\\\Peter\\\\Desktop\\\\PYTHON\\\\PHD_experiment\\\\_DATA\\\\timepoint\\\\MPFC_COMPOSITE\\\\M2_MPFC__3-25-2018__300.npy',\n  'C:\\\\Users\\\\Peter\\\\Desktop\\\\PYTHON\\\\PHD_experiment\\\\_DATA\\\\timepoint\\\\MPFC_COMPOSITE\\\\M2_MPFC__3-25-2018__300.pkl'),\n ('C:\\\\Users\\\\Peter\\\\Desktop\\\\PYTHON\\\\PHD_experiment\\\\_DATA\\\\timepoint\\\\MPFC_COMPOSITE\\\\M2_MPFC__3-26-2018__300.npy',\n  'C:\\\\Users\\\\Peter\\\\Desktop\\\\PYTHON\\\\PHD_experiment\\\\_DATA\\\\timepoint\\\\MPFC_COMPOSITE\\\\M2_MPFC__3-26-2018__300.pkl'),\n ('C:\\\\Users\\\\Peter\\\\Desktop\\\\PYTHON\\\\PHD_experiment\\\\_DATA\\\\timepoint\\\\MPFC_COMPOSITE\\\\M2_MPFC__3-27-2018__300.npy',\n  'C:\\\\Users\\\\Peter\\\\Desktop\\\\PYTHON\\\\PHD_experiment\\\\_DATA\\\\timepoint\\\\MPFC_COMPOSITE\\\\M2_MPFC__3-27-2018__300.pkl'),\n ('C:\\\\Users\\\\Peter\\\\Desktop\\\\PYTHON\\\\PHD_experiment\\\\_DATA\\\\timepoint\\\\MPFC_COMPOSITE\\\\M2_MPFC__3-28-2018__300.npy',\n  'C:\\\\Users\\\\Peter\\\\Desktop\\\\PYTHON\\\\PHD_experiment\\\\_DATA\\\\timepoint\\\\MPFC_COMPOSITE\\\\M2_MPFC__3-28-2018__300.pkl'),\n ('C:\\\\Users\\\\Peter\\\\Desktop\\\\PYTHON\\\\PHD_experiment\\\\_DATA\\\\timepoint\\\\MPFC_COMPOSITE\\\\M2_MPFC__3-29-2018__300.npy',\n  'C:\\\\Users\\\\Peter\\\\Desktop\\\\PYTHON\\\\PHD_experiment\\\\_DATA\\\\timepoint\\\\MPFC_COMPOSITE\\\\M2_MPFC__3-29-2018__300.pkl'),\n ('C:\\\\Users\\\\Peter\\\\Desktop\\\\PYTHON\\\\PHD_experiment\\\\_DATA\\\\timepoint\\\\MPFC_COMPOSITE\\\\M2_MPFC__3-30-2018__300.npy',\n  'C:\\\\Users\\\\Peter\\\\Desktop\\\\PYTHON\\\\PHD_experiment\\\\_DATA\\\\timepoint\\\\MPFC_COMPOSITE\\\\M2_MPFC__3-30-2018__300.pkl'),\n ('C:\\\\Users\\\\Peter\\\\Desktop\\\\PYTHON\\\\PHD_experiment\\\\_DATA\\\\timepoint\\\\MPFC_COMPOSITE\\\\M2_MPFC__4-01-2018__300.npy',\n  'C:\\\\Users\\\\Peter\\\\Desktop\\\\PYTHON\\\\PHD_experiment\\\\_DATA\\\\timepoint\\\\MPFC_COMPOSITE\\\\M2_MPFC__4-01-2018__300.pkl')]"
     },
     "execution_count": 16,
     "metadata": {},
     "output_type": "execute_result"
    }
   ],
   "source": [
    "mouse = 'M2'\n",
    "files = sorted(glob.glob(os.path.join(data_directory, f'*{mouse}*')))\n",
    "npy_files = [f for f in files if '.npy' in f]\n",
    "pkl_files = [f for f in files if '.pkl' in f]\n",
    "assert len(npy_files) == len(pkl_files)\n",
    "day_files = list(zip(npy_files, pkl_files))\n",
    "day_files"
   ],
   "metadata": {
    "collapsed": false,
    "pycharm": {
     "name": "#%%\n"
    }
   }
  },
  {
   "cell_type": "code",
   "execution_count": 17,
   "outputs": [
    {
     "data": {
      "text/plain": "{'pin': 'CS+', 'msy': 'CS+', 'euy': 'CS-', 'lim': 'CS-'}"
     },
     "execution_count": 17,
     "metadata": {},
     "output_type": "execute_result"
    }
   ],
   "source": [
    "'''\n",
    "M2 is the first mouse of this condition, so the index is 0.\n",
    "'''\n",
    "\n",
    "all_odors = conditions.MPFC_COMPOSITE.dt_odors[0]\n",
    "csp_odors = conditions.MPFC_COMPOSITE.dt_csp[0]\n",
    "odor_dict = {x: 'CS+' if x in csp_odors else 'CS-' for x in all_odors}\n",
    "odor_dict"
   ],
   "metadata": {
    "collapsed": false,
    "pycharm": {
     "name": "#%%\n"
    }
   }
  },
  {
   "cell_type": "markdown",
   "source": [
    "The numpy file gives you the raw calcium activity, in the form of [cells, frames per trial X trial]"
   ],
   "metadata": {
    "collapsed": false,
    "pycharm": {
     "name": "#%% md\n"
    }
   }
  },
  {
   "cell_type": "code",
   "execution_count": 18,
   "outputs": [
    {
     "name": "stdout",
     "output_type": "stream",
     "text": [
      "(58, 4500)\n"
     ]
    }
   ],
   "source": [
    "from tools import file_io\n",
    "\n",
    "data = file_io.load_numpy(day_files[-1][0])\n",
    "print(data.shape)"
   ],
   "metadata": {
    "collapsed": false,
    "pycharm": {
     "name": "#%%\n"
    }
   }
  },
  {
   "cell_type": "markdown",
   "source": [
    "The pickle file stores an instance of a class Cons object. You can look at what Cons does in init\\cons.py. Basically\n",
    "it has all the attributes that you need for downstream analysis"
   ],
   "metadata": {
    "collapsed": false,
    "pycharm": {
     "name": "#%% md\n"
    }
   }
  },
  {
   "cell_type": "code",
   "execution_count": 19,
   "outputs": [
    {
     "data": {
      "text/plain": "{'DIR': 'E:\\\\IMPORTANT DATA\\\\DATA_2P\\\\M2_MPFC\\\\4-01-2018\\\\300',\n 'FILE_BANDPASS': 'E:\\\\IMPORTANT DATA\\\\DATA_X\\\\M2_MPFC\\\\4-01-2018\\\\m.tif',\n 'DAQ_SAMP': 50.0,\n 'DAQ_W_ON_F': 44,\n 'DEFAULT_O_OFF': 7.7,\n 'DAQ_O_ON_F': 25,\n 'NAME_MOUSE': 'M2_MPFC',\n 'KEY_EFTY': '_EFTY',\n 'DIR_STORAGE_ROI': 'E:\\\\IMPORTANT DATA\\\\STORAGE_ROI',\n 'TRIAL_PERIOD': 0.229711903005393,\n 'ODOR_TRIALS': ['msy',\n  'euy',\n  'water',\n  'lim',\n  'pin',\n  'msy',\n  'euy',\n  'water',\n  'lim',\n  'pin',\n  'msy',\n  'euy',\n  'water',\n  'lim',\n  'pin',\n  'msy',\n  'euy',\n  'water',\n  'lim',\n  'pin',\n  'lim',\n  'pin',\n  'water',\n  'euy',\n  'msy',\n  'lim',\n  'pin',\n  'water',\n  'euy',\n  'msy',\n  'lim',\n  'pin',\n  'water',\n  'euy',\n  'msy',\n  'lim',\n  'pin',\n  'water',\n  'euy',\n  'msy',\n  'pin',\n  'lim',\n  'msy',\n  'euy',\n  'water',\n  'pin',\n  'lim',\n  'msy',\n  'euy',\n  'water',\n  'pin',\n  'lim',\n  'msy',\n  'euy',\n  'water',\n  'pin',\n  'lim',\n  'msy',\n  'euy',\n  'water'],\n 'DIR_EFTY_SEPK': 'E:\\\\IMPORTANT DATA\\\\DATA_X\\\\M2_MPFC\\\\4-01-2018\\\\300__EFTYfk',\n 'DAQ_O': 1,\n 'STORAGE_ROI': 'E:\\\\IMPORTANT DATA\\\\STORAGE_ROI\\\\M2_MPFC_4-01-2018_300.mat',\n 'DIR_ORIG': 'E:\\\\IMPORTANT DATA\\\\DATA_2P\\\\M2_MPFC\\\\4-01-2018\\\\300_cycle',\n 'DIR_EFTY_SEPCAT': None,\n 'NAME_DATE': '4-01-2018',\n 'DIR_EFTY_SEP': 'E:\\\\IMPORTANT DATA\\\\DATA_X\\\\M2_MPFC\\\\4-01-2018\\\\300__EFTYf',\n 'DAQ_W_ON': 10.02,\n 'FORMAT': 'cycle',\n 'STORAGE_EFTY': 'E:\\\\IMPORTANT DATA\\\\STORAGE_EFTY\\\\M2_MPFC_4-01-2018_300.mat',\n 'DAQ_L': 3,\n 'NAME_PLANE': '300',\n 'TRIAL_FRAMES': 75,\n 'DAQ_O_OFF_F': 34,\n 'DIR_VIZ_PICS': 'E:\\\\IMPORTANT DATA\\\\VIZ_PICS',\n 'FORMAT_READ': 'tifstack',\n 'DIR_STORAGE_DATA': 'E:\\\\IMPORTANT DATA\\\\STORAGE_DATA',\n 'DAQ_DATA': array([[[0.00000000e+00, 0.00000000e+00, 0.00000000e+00, ...,\n          0.00000000e+00, 0.00000000e+00, 0.00000000e+00],\n         [1.20246597e-01, 1.36116706e-01, 1.55649149e-01, ...,\n          2.36220472e-01, 2.17908808e-01, 2.20350363e-01],\n         [1.15973875e-02, 1.40389428e-02, 6.71427699e-03, ...,\n          1.15973875e-02, 1.15973875e-02, 9.15583227e-03],\n         ...,\n         [1.42159556e+00, 1.42159556e+00, 1.41915400e+00, ...,\n          1.42159556e+00, 1.42647867e+00, 1.42159556e+00],\n         [2.13636086e-02, 2.13636086e-02, 1.03766099e-02, ...,\n          2.13636086e-02, 2.13636086e-02, 1.28181652e-02],\n         [2.13636086e-02, 1.89220533e-02, 1.15973875e-02, ...,\n          2.13636086e-02, 1.89220533e-02, 1.40389428e-02]],\n \n        [[2.00000000e-02, 2.00000000e-02, 2.00000000e-02, ...,\n          2.00000000e-02, 2.00000000e-02, 2.00000000e-02],\n         [1.15363487e-01, 1.40999817e-01, 1.67856925e-01, ...,\n          2.33778917e-01, 2.15467253e-01, 2.20350363e-01],\n         [1.15973875e-02, 1.15973875e-02, 4.27272172e-03, ...,\n          1.15973875e-02, 1.15973875e-02, 1.15973875e-02],\n         ...,\n         [1.41671245e+00, 1.41671245e+00, 1.41671245e+00, ...,\n          1.42403711e+00, 1.41915400e+00, 1.41182934e+00],\n         [1.89220533e-02, 1.89220533e-02, 1.52597204e-02, ...,\n          2.13636086e-02, 2.13636086e-02, 1.28181652e-02],\n         [1.89220533e-02, 1.89220533e-02, 1.15973875e-02, ...,\n          1.89220533e-02, 2.13636086e-02, 1.40389428e-02]],\n \n        [[4.00000000e-02, 4.00000000e-02, 4.00000000e-02, ...,\n          4.00000000e-02, 4.00000000e-02, 4.00000000e-02],\n         [1.20246597e-01, 1.40999817e-01, 1.62973814e-01, ...,\n          2.33778917e-01, 2.20350363e-01, 2.17908808e-01],\n         [1.15973875e-02, 1.15973875e-02, 9.15583227e-03, ...,\n          1.15973875e-02, 9.15583227e-03, 6.71427699e-03],\n         ...,\n         [1.42403711e+00, 1.42159556e+00, 1.41671245e+00, ...,\n          1.42647867e+00, 1.42403711e+00, 1.41915400e+00],\n         [1.89220533e-02, 2.13636086e-02, 1.28181652e-02, ...,\n          2.13636086e-02, 1.89220533e-02, 1.03766099e-02],\n         [2.13636086e-02, 2.13636086e-02, 1.40389428e-02, ...,\n          1.89220533e-02, 1.89220533e-02, 1.40389428e-02]],\n \n        ...,\n \n        [[1.99400000e+01, 1.99400000e+01, 1.99400000e+01, ...,\n          1.99400000e+01, 1.99400000e+01, 1.99400000e+01],\n         [1.53207593e-01, 1.95934810e-01, 1.43441372e-01, ...,\n          2.41103583e-01, 2.45986694e-01, 1.86168589e-01],\n         [1.15973875e-02, 1.15973875e-02, 4.27272172e-03, ...,\n          1.15973875e-02, 1.15973875e-02, 9.15583227e-03],\n         ...,\n         [1.42159556e+00, 1.42403711e+00, 1.41671245e+00, ...,\n          1.41671245e+00, 1.41671245e+00, 1.42403711e+00],\n         [1.52597204e-02, 1.52597204e-02, 7.93505463e-03, ...,\n          1.52597204e-02, 1.89220533e-02, 1.28181652e-02],\n         [1.64804981e-02, 1.40389428e-02, 1.15973875e-02, ...,\n          1.89220533e-02, 1.64804981e-02, 1.15973875e-02]],\n \n        [[1.99600000e+01, 1.99600000e+01, 1.99600000e+01, ...,\n          1.99600000e+01, 1.99600000e+01, 1.99600000e+01],\n         [1.50766038e-01, 1.76402368e-01, 1.45882927e-01, ...,\n          2.41103583e-01, 2.45986694e-01, 1.81285479e-01],\n         [9.15583227e-03, 9.15583227e-03, 6.71427699e-03, ...,\n          9.15583227e-03, 1.15973875e-02, 6.71427699e-03],\n         ...,\n         [1.42159556e+00, 1.42403711e+00, 1.42403711e+00, ...,\n          1.42403711e+00, 1.41671245e+00, 1.42403711e+00],\n         [1.52597204e-02, 1.28181652e-02, 5.49349936e-03, ...,\n          1.28181652e-02, 1.89220533e-02, 1.03766099e-02],\n         [1.64804981e-02, 1.40389428e-02, 9.15583227e-03, ...,\n          1.40389428e-02, 1.89220533e-02, 1.15973875e-02]],\n \n        [[1.99800000e+01, 1.99800000e+01, 1.99800000e+01, ...,\n          1.99800000e+01, 1.99800000e+01, 1.99800000e+01],\n         [1.48324483e-01, 1.86168589e-01, 1.43441372e-01, ...,\n          2.43545138e-01, 2.48428249e-01, 1.83727034e-01],\n         [1.15973875e-02, 1.15973875e-02, 6.71427699e-03, ...,\n          6.71427699e-03, 1.15973875e-02, 6.71427699e-03],\n         ...,\n         [1.42403711e+00, 1.42647867e+00, 1.41671245e+00, ...,\n          1.41671245e+00, 1.41671245e+00, 1.42159556e+00],\n         [1.52597204e-02, 1.52597204e-02, 7.93505463e-03, ...,\n          1.52597204e-02, 1.52597204e-02, 1.03766099e-02],\n         [1.64804981e-02, 1.64804981e-02, 9.15583227e-03, ...,\n          1.89220533e-02, 1.89220533e-02, 1.15973875e-02]]]),\n 'STORAGE_DATA': 'E:\\\\IMPORTANT DATA\\\\STORAGE_DATA\\\\M2_MPFC_4-01-2018_300.mat',\n 'DIR_RAW': 'E:\\\\IMPORTANT DATA\\\\DATA_X\\\\M2_MPFC\\\\4-01-2018\\\\300_',\n 'DEFAULT_O_ON': 5.7,\n 'ODOR_UNIQUE': array(['euy', 'lim', 'msy', 'pin', 'water'], dtype='<U5'),\n 'DAQ_O_OFF': 7.7,\n 'DAQ_W': 4,\n 'DIR_STORAGE_EFTY': 'E:\\\\IMPORTANT DATA\\\\STORAGE_EFTY',\n 'FOLDER_ANALYSIS': 'E:\\\\IMPORTANT DATA\\\\DATA_X',\n 'DAQ_O_ON': 5.7,\n 'ODOR_TRIALIDX': array([2, 0, 4, 1, 3, 2, 0, 4, 1, 3, 2, 0, 4, 1, 3, 2, 0, 4, 1, 3, 1, 3,\n        4, 0, 2, 1, 3, 4, 0, 2, 1, 3, 4, 0, 2, 1, 3, 4, 0, 2, 3, 1, 2, 0,\n        4, 3, 1, 2, 0, 4, 3, 1, 2, 0, 4, 3, 1, 2, 0, 4], dtype=int64)}"
     },
     "execution_count": 19,
     "metadata": {},
     "output_type": "execute_result"
    }
   ],
   "source": [
    "cons = file_io.load_pickle(day_files[-1][1])\n",
    "cons.__dict__"
   ],
   "metadata": {
    "collapsed": false,
    "pycharm": {
     "name": "#%%\n"
    }
   }
  },
  {
   "cell_type": "markdown",
   "source": [
    "Here are the relevant timings in frames. Note that the trace interval between odor off and water on is\n",
    " indeed less than 3 s. This is because in the definition of 3 s I did not take into account the solenoid valve delay,\n",
    "  which is roughly ~0.7 s"
   ],
   "metadata": {
    "collapsed": false,
    "pycharm": {
     "name": "#%% md\n"
    }
   }
  },
  {
   "cell_type": "code",
   "execution_count": 43,
   "outputs": [
    {
     "name": "stdout",
     "output_type": "stream",
     "text": [
      "2.29711903005393 s\n"
     ]
    }
   ],
   "source": [
    "frames_per_trial = cons.TRIAL_FRAMES\n",
    "odor_on_in_frames = cons.DAQ_O_ON_F\n",
    "odor_off_in_frames = cons.DAQ_O_OFF_F\n",
    "water_on_in_frames = cons.DAQ_W_ON_F\n",
    "trial_period = cons.TRIAL_PERIOD\n",
    "\n",
    "t_trace = (water_on_in_frames - odor_off_in_frames) * trial_period\n",
    "print(f'{t_trace} s')"
   ],
   "metadata": {
    "collapsed": false,
    "pycharm": {
     "name": "#%%\n"
    }
   }
  },
  {
   "cell_type": "markdown",
   "source": [
    "DAQ_DATA contains the raw TTL signals and analog outputs of PID signals"
   ],
   "metadata": {
    "collapsed": false,
    "pycharm": {
     "name": "#%% md\n"
    }
   }
  },
  {
   "cell_type": "code",
   "execution_count": 41,
   "outputs": [
    {
     "name": "stdout",
     "output_type": "stream",
     "text": [
      "(1000, 9, 60)\n"
     ]
    },
    {
     "data": {
      "text/plain": "<Figure size 216x144 with 1 Axes>",
      "image/png": "[encoded data removed]"
     },
     "metadata": {
      "needs_background": "light"
     },
     "output_type": "display_data"
    },
    {
     "data": {
      "text/plain": "<Figure size 216x144 with 1 Axes>",
      "image/png": "[encoded data removed]"
     },
     "metadata": {
      "needs_background": "light"
     },
     "output_type": "display_data"
    },
    {
     "data": {
      "text/plain": "<Figure size 216x144 with 1 Axes>",
      "image/png": "[encoded data removed]"
     },
     "metadata": {
      "needs_background": "light"
     },
     "output_type": "display_data"
    },
    {
     "data": {
      "text/plain": "<Figure size 216x144 with 1 Axes>",
      "image/png": "[encoded data removed]"
     },
     "metadata": {
      "needs_background": "light"
     },
     "output_type": "display_data"
    },
    {
     "data": {
      "text/plain": "<Figure size 216x144 with 1 Axes>",
      "image/png": "[encoded data removed]"
     },
     "metadata": {
      "needs_background": "light"
     },
     "output_type": "display_data"
    }
   ],
   "source": [
    "print(cons.DAQ_DATA.shape) # in shape of samples by channels by trials\n",
    "\n",
    "odor_names = cons.ODOR_UNIQUE\n",
    "odor_ixs = cons.ODOR_TRIALIDX\n",
    "\n",
    "for i, odor_name in enumerate(odor_names):\n",
    "    ixs = np.argwhere(odor_ixs == i).flatten()\n",
    "    odor_data = cons.DAQ_DATA[:, cons.DAQ_W, ixs].mean(axis=1)\n",
    "    t = np.arange(odor_data.shape[0]) / cons.DAQ_SAMP\n",
    "    plt.figure(figsize=(3, 2))\n",
    "    plt.plot(t, odor_data, label=odor_name)\n",
    "    plt.ylim([-0.25, 5])\n",
    "    plt.legend(frameon=False)"
   ],
   "metadata": {
    "collapsed": false,
    "pycharm": {
     "name": "#%%\n"
    }
   }
  },
  {
   "cell_type": "markdown",
   "source": [
    "For instance let's make some raw PSTHs based on this  day's imaging in response to all odor conditions"
   ],
   "metadata": {
    "collapsed": false,
    "pycharm": {
     "name": "#%% md\n"
    }
   }
  },
  {
   "cell_type": "code",
   "execution_count": 20,
   "outputs": [
    {
     "name": "stderr",
     "output_type": "stream",
     "text": [
      "<>:18: SyntaxWarning: \"is not\" with a literal. Did you mean \"!=\"?\n",
      "<>:18: SyntaxWarning: \"is not\" with a literal. Did you mean \"!=\"?\n",
      "C:\\Users\\Peter\\AppData\\Local\\Temp/ipykernel_2204/3460511025.py:18: SyntaxWarning: \"is not\" with a literal. Did you mean \"!=\"?\n",
      "  label = f'{odor_name}_{odor_valence}' if odor_valence is not '' else odor_name\n"
     ]
    },
    {
     "data": {
      "text/plain": "<matplotlib.legend.Legend at 0x26a0158a940>"
     },
     "execution_count": 20,
     "metadata": {},
     "output_type": "execute_result"
    },
    {
     "data": {
      "text/plain": "<Figure size 432x288 with 1 Axes>",
      "image/png": "[encoded data removed]"
     },
     "metadata": {
      "needs_background": "light"
     },
     "output_type": "display_data"
    }
   ],
   "source": [
    "odor_names = cons.ODOR_UNIQUE\n",
    "odor_ixs = cons.ODOR_TRIALIDX\n",
    "\n",
    "cell_id = 22 # random cell that has nice responses ;)\n",
    "data_r = data.reshape(data.shape[0], -1, frames_per_trial) # reshape data into [cells, trials, frame_per_trial]\n",
    "plt.figure()\n",
    "for i, odor_name in enumerate(odor_names):\n",
    "    ixs = np.argwhere(odor_ixs == i).flatten()\n",
    "    odor_data = data_r[cell_id, ixs, :].mean(axis=0)\n",
    "    if odor_name in odor_dict.keys():\n",
    "        odor_valence = odor_dict[odor_name]\n",
    "    else:\n",
    "        odor_valence = ''\n",
    "    label = f'{odor_name}_{odor_valence}' if odor_valence is not '' else odor_name\n",
    "    plt.plot(odor_data, label=label)\n",
    "plt.legend(frameon=False)"
   ],
   "metadata": {
    "collapsed": false,
    "pycharm": {
     "name": "#%%\n"
    }
   }
  },
  {
   "cell_type": "code",
   "execution_count": null,
   "outputs": [],
   "source": [],
   "metadata": {
    "collapsed": false,
    "pycharm": {
     "name": "#%%\n"
    }
   }
  }
 ],
 "metadata": {
  "kernelspec": {
   "display_name": "Python 3",
   "language": "python",
   "name": "python3"
  },
  "language_info": {
   "codemirror_mode": {
    "name": "ipython",
    "version": 3
   },
   "file_extension": ".py",
   "mimetype": "text/x-python",
   "name": "python",
   "nbconvert_exporter": "python",
   "pygments_lexer": "ipython3",
   "version": "3.6.12"
  }
 },
 "nbformat": 4,
 "nbformat_minor": 1
}