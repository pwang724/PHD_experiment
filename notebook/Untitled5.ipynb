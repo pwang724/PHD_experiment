{
 "cells": [
  {
   "cell_type": "code",
   "execution_count": 1,
   "metadata": {
    "collapsed": true
   },
   "outputs": [],
   "source": [
    "%matplotlib inline\n",
    "import os\n",
    "import glob\n",
    "from skimage import io\n",
    "import time\n",
    "import matplotlib.pyplot as plt\n",
    "import numpy as np"
   ]
  },
  {
   "cell_type": "code",
   "execution_count": 2,
   "metadata": {
    "collapsed": true
   },
   "outputs": [],
   "source": [
    "d = r'I:\\MANUSCRIPT_DATA\\BEHAVIOR_VIDEOS\\FREELY MOVING\\Movie stars behavior\\Movie star 1\\rawMS1'"
   ]
  },
  {
   "cell_type": "code",
   "execution_count": 3,
   "metadata": {
    "collapsed": true
   },
   "outputs": [],
   "source": [
    "raw = np.load(d)"
   ]
  },
  {
   "cell_type": "code",
   "execution_count": 4,
   "metadata": {
    "collapsed": true
   },
   "outputs": [],
   "source": [
    "dp = r'I:\\MANUSCRIPT_DATA\\BEHAVIOR_VIDEOS\\FREELY MOVING\\Movie stars behavior\\Movie star 1\\plusMS1.npy'\n",
    "dm = r'I:\\MANUSCRIPT_DATA\\BEHAVIOR_VIDEOS\\FREELY MOVING\\Movie stars behavior\\Movie star 1\\minusMS1.npy'\n",
    "p = np.load(dp)\n",
    "m = np.load(dm)"
   ]
  },
  {
   "cell_type": "code",
   "execution_count": 5,
   "metadata": {
    "collapsed": false
   },
   "outputs": [
    {
     "data": {
      "text/plain": [
       "(24, 13)"
      ]
     },
     "execution_count": 5,
     "metadata": {},
     "output_type": "execute_result"
    }
   ],
   "source": [
    "p.shape\n",
    "m.shape"
   ]
  },
  {
   "cell_type": "code",
   "execution_count": 6,
   "metadata": {
    "collapsed": false
   },
   "outputs": [
    {
     "data": {
      "text/plain": [
       "(456, 13)"
      ]
     },
     "execution_count": 6,
     "metadata": {},
     "output_type": "execute_result"
    }
   ],
   "source": [
    "p.shape"
   ]
  },
  {
   "cell_type": "code",
   "execution_count": 7,
   "metadata": {
    "collapsed": false
   },
   "outputs": [
    {
     "data": {
      "text/plain": [
       "array([ 1.,  1.,  1.,  1.,  1.,  1.,  1.,  1.,  1.,  1.,  1.,  1.,  1.,\n",
       "        1.,  1.,  1.,  1.,  1.,  1.,  1.,  1.,  1.,  1.,  1.,  1.,  1.,\n",
       "        1.,  1.,  1.,  1.,  1.,  1.,  1.,  1.,  1.,  1.,  1.,  1.,  1.,\n",
       "        1.,  1.,  1.,  1.,  1.,  1.,  1.,  1.,  1.,  1.,  1.,  1.,  1.,\n",
       "        1.,  1.,  1.,  1.,  1.,  1.,  1.,  1.,  1.,  1.,  1.,  1.,  1.,\n",
       "        1.,  1.,  1.,  1.,  1.,  1.,  1.,  1.,  1.,  1.,  1.,  1.,  1.,\n",
       "        1.,  1.,  1.,  1.,  1.,  1.,  1.,  1.,  1.,  1.,  1.,  1.,  1.,\n",
       "        1.,  1.,  1.,  1.,  1.,  1.,  1.,  1.,  1.,  1.,  1.,  1.,  1.,\n",
       "        1.,  1.,  1.,  1.,  1.,  1.,  1.,  1.,  1.,  1.,  1.,  1.,  1.,\n",
       "        1.,  1.,  1.,  1.,  2.,  2.,  2.,  2.,  2.,  2.,  2.,  2.,  2.,\n",
       "        2.,  2.,  2.,  2.,  2.,  2.,  2.,  2.,  2.,  2.,  2.,  2.,  2.,\n",
       "        2.,  2.,  2.,  2.,  2.,  2.,  2.,  2.,  2.,  2.,  2.,  2.,  2.,\n",
       "        2.,  2.,  2.,  2.,  2.,  2.,  2.,  2.,  2.,  2.,  2.,  2.,  2.,\n",
       "        2.,  2.,  2.,  2.,  2.,  2.,  2.,  2.,  2.,  2.,  2.,  2.,  2.,\n",
       "        2.,  2.,  2.,  2.,  2.,  2.,  2.,  2.,  2.,  2.,  2.,  2.,  2.,\n",
       "        2.,  2.,  2.,  2.,  2.,  2.,  2.,  2.,  2.,  2.,  2.,  2.,  2.,\n",
       "        2.,  2.,  2.,  2.,  2.,  2.,  2.,  2.,  2.,  2.,  2.,  2.,  2.,\n",
       "        2.,  2.,  2.,  2.,  2.,  2.,  2.,  2.,  2.,  2.,  2.,  2.,  2.,\n",
       "        2.,  2.,  2.,  2.,  2.,  2.,  2.,  2.,  2.,  2.,  2.,  2.,  2.,\n",
       "        2.,  2.,  2.,  2.,  2.,  2.,  2.,  2.,  2.,  2.,  2.,  2.,  2.,\n",
       "        2.,  2.,  2.,  2.,  2.,  2.,  2.,  2.,  2.,  2.,  2.,  2.,  2.,\n",
       "        2.,  2.,  2.,  2.,  2.,  2.,  2.,  2.,  2.,  2.,  2.,  2.,  2.,\n",
       "        2.,  2.,  2.,  2.,  2.,  2.,  2.,  2.,  2.,  2.,  2.,  2.,  2.,\n",
       "        2.,  2.,  2.,  2.,  2.,  2.,  2.,  2.,  2.,  2.,  2.,  2.,  2.,\n",
       "        2.,  2.,  2.,  2.,  2.,  2.,  2.,  2.,  2.,  3.,  3.,  3.,  3.,\n",
       "        3.,  3.,  3.,  3.,  3.,  3.,  3.,  3.,  3.,  3.,  3.,  3.,  3.,\n",
       "        3.,  3.,  3.,  3.,  3.,  3.,  3.,  3.,  3.,  3.,  3.,  3.,  3.,\n",
       "        3.,  3.,  3.,  3.,  3.,  3.,  3.,  3.,  3.,  3.,  3.,  3.,  3.,\n",
       "        3.,  3.,  3.,  3.,  3.,  3.,  3.,  3.,  3.,  3.,  3.,  3.,  3.,\n",
       "        3.,  3.,  3.,  3.,  3.,  3.,  3.,  3.,  3.,  3.,  3.,  3.,  3.,\n",
       "        3.,  3.,  3.,  3.,  3.,  3.,  3.,  3.,  3.,  3.,  3.,  3.,  3.,\n",
       "        3.,  3.,  3.,  3.,  3.,  3.,  3.,  3.,  3.,  3.,  3.,  3.,  3.,\n",
       "        3.,  3.,  3.,  3.,  3.,  3.,  3.,  3.,  3.,  3.,  3.,  3.,  3.,\n",
       "        3.,  3.,  3.,  3.,  3.,  3.,  3.,  3.,  3.,  3.,  3.,  3.,  3.,\n",
       "        3.,  3.,  3.,  3.,  3.,  3.,  3.,  3.,  3.,  3.,  3.,  3.,  3.,  3.])"
      ]
     },
     "execution_count": 7,
     "metadata": {},
     "output_type": "execute_result"
    }
   ],
   "source": [
    "p[:,0]"
   ]
  },
  {
   "cell_type": "code",
   "execution_count": 8,
   "metadata": {
    "collapsed": true
   },
   "outputs": [],
   "source": [
    "plus_ixs = p[:,3]\n",
    "minus_ixs = m[:,3]"
   ]
  },
  {
   "cell_type": "code",
   "execution_count": 9,
   "metadata": {
    "collapsed": false
   },
   "outputs": [
    {
     "data": {
      "text/plain": [
       "array([   2.,    3.,    4.,    5.,    6.,    7.,    8.,    9.,   10.,\n",
       "         11.,   12.,   13.,   14.,   15.,   16.,   17.,   18.,   19.,\n",
       "         20.,   22.,   23.,   24.,   25.,   26.,   27.,   28.,   29.,\n",
       "         30.,   31.,   32.,   33.,   34.,   35.,   36.,   37.,   38.,\n",
       "         39.,   40.,   42.,   43.,   44.,   45.,   46.,   47.,   48.,\n",
       "         49.,   50.,   51.,   52.,   53.,   54.,   55.,   56.,   57.,\n",
       "         58.,   59.,   60.,   62.,   63.,   64.,   65.,   66.,   67.,\n",
       "         68.,   69.,   70.,   71.,   72.,   73.,   74.,   75.,   76.,\n",
       "         77.,   78.,   79.,   80.,   82.,   83.,   84.,   85.,   86.,\n",
       "         87.,   88.,   89.,   90.,   91.,   92.,   93.,   94.,   95.,\n",
       "         96.,   97.,   98.,   99.,  100.,  102.,  103.,  104.,  105.,\n",
       "        106.,  107.,  108.,  109.,  110.,  111.,  112.,  113.,  114.,\n",
       "        115.,  116.,  117.,  118.,  119.,  120.,  122.,  123.,  124.,\n",
       "        125.,  126.,  127.,  128.,  129.,  130.,  131.,  132.,  133.,\n",
       "        134.,  135.,  136.,  137.,  138.,  139.,  140.,  142.,  143.,\n",
       "        144.,  145.,  146.,  147.,  148.,  149.,  150.,  151.,  152.,\n",
       "        153.,  154.,  155.,  156.,  157.,  158.,  159.,  160.,  162.,\n",
       "        163.,  164.,  165.,  166.,  167.,  168.,  169.,  170.,  171.,\n",
       "        172.,  173.,  174.,  175.,  176.,  177.,  178.,  179.,  180.,\n",
       "        182.,  183.,  184.,  185.,  186.,  187.,  188.,  189.,  190.,\n",
       "        191.,  192.,  193.,  194.,  195.,  196.,  197.,  198.,  199.,\n",
       "        200.,  202.,  203.,  204.,  205.,  206.,  207.,  208.,  209.,\n",
       "        210.,  211.,  212.,  213.,  214.,  215.,  216.,  217.,  218.,\n",
       "        219.,  220.,  222.,  223.,  224.,  225.,  226.,  227.,  228.,\n",
       "        229.,  230.,  231.,  232.,  233.,  234.,  235.,  236.,  237.,\n",
       "        238.,  239.,  240.,  242.,  243.,  244.,  245.,  246.,  247.,\n",
       "        248.,  249.,  250.,  251.,  252.,  253.,  254.,  255.,  256.,\n",
       "        257.,  258.,  259.,  260.,  262.,  263.,  264.,  265.,  266.,\n",
       "        267.,  268.,  269.,  270.,  271.,  272.,  273.,  274.,  275.,\n",
       "        276.,  277.,  278.,  279.,  280.,  282.,  283.,  284.,  285.,\n",
       "        286.,  287.,    1.,    1.,    2.,    3.,    1.,    2.,    1.,\n",
       "          1.,    1.,    2.,    1.,    2.,    3.,    5.,    6.,    7.,\n",
       "          8.,    9.,   10.,   11.,   12.,   13.,   14.,    1.,    2.,\n",
       "          3.,    4.,    5.,    1.,    2.,    3.,    1.,    3.,    4.,\n",
       "          5.,    6.,    7.,    8.,    9.,   10.,   11.,   12.,    1.,\n",
       "          2.,    3.,    4.,    5.,    1.,    2.,    3.,    4.,    6.,\n",
       "          7.,    8.,    9.,   10.,    1.,    2.,    3.,    4.,    5.,\n",
       "          6.,    7.,    8.,    9.,   10.,   11.,   12.,   13.,   14.,\n",
       "         16.,   17.,   18.,   19.,   20.,   21.,   22.,   23.,   24.,\n",
       "         25.,   26.,   27.,   28.,   29.,   30.,   31.,   32.,   33.,\n",
       "         34.,   36.,   37.,   38.,   39.,   40.,   41.,   42.,   43.,\n",
       "         44.,   45.,    1.,    2.,    3.,    4.,    5.,    6.,    7.,\n",
       "          1.,    2.,    4.,    1.,    1.,    2.,    3.,    4.,    5.,\n",
       "          6.,    7.,    8.,    9.,   10.,   11.,   12.,   13.,   14.,\n",
       "         15.,   16.,   17.,   19.,   20.,   21.,   22.,   23.,   24.,\n",
       "         25.,   26.,   27.,   28.,   29.,   30.,   31.,   32.,   33.,\n",
       "         34.,    1.,    1.,    2.,    4.,    5.,    6.,    7.,    8.,\n",
       "          1.,    2.,    1.,    2.,    3.,    4.,    5.,    6.,    7.,\n",
       "          8.,    9.,   10.,   11.,   12.,   14.,   15.,   16.,   17.,\n",
       "         18.,   19.,   20.,   21.,   22.,   23.,   24.,   25.,   26.,\n",
       "         27.,   28.,   29.,   30.,   31.,   32.])"
      ]
     },
     "execution_count": 9,
     "metadata": {},
     "output_type": "execute_result"
    }
   ],
   "source": [
    "plus_ixs"
   ]
  },
  {
   "cell_type": "code",
   "execution_count": null,
   "metadata": {
    "collapsed": true
   },
   "outputs": [],
   "source": []
  },
  {
   "cell_type": "code",
   "execution_count": 10,
   "metadata": {
    "collapsed": false
   },
   "outputs": [
    {
     "data": {
      "text/plain": [
       "(456,)"
      ]
     },
     "execution_count": 10,
     "metadata": {},
     "output_type": "execute_result"
    }
   ],
   "source": [
    "p[:,6].shape"
   ]
  },
  {
   "cell_type": "code",
   "execution_count": 11,
   "metadata": {
    "collapsed": false
   },
   "outputs": [
    {
     "data": {
      "text/plain": [
       "(480, 60)"
      ]
     },
     "execution_count": 11,
     "metadata": {},
     "output_type": "execute_result"
    }
   ],
   "source": [
    "bin3 = np.array(raw['bin_ant_3'])\n",
    "bin3.shape"
   ]
  },
  {
   "cell_type": "code",
   "execution_count": 12,
   "metadata": {
    "collapsed": true
   },
   "outputs": [],
   "source": [
    "bin3p = bin3[plus_ixs.astype(int)-1,:]"
   ]
  },
  {
   "cell_type": "code",
   "execution_count": 13,
   "metadata": {
    "collapsed": false
   },
   "outputs": [
    {
     "data": {
      "text/plain": [
       "<matplotlib.collections.PathCollection at 0x9375955e48>"
      ]
     },
     "execution_count": 13,
     "metadata": {},
     "output_type": "execute_result"
    },
    {
     "data": {
      "image/png": "[encoded data removed]",
      "text/plain": [
       "<Figure size 576x576 with 1 Axes>"
      ]
     },
     "metadata": {},
     "output_type": "display_data"
    }
   ],
   "source": [
    "plt.figure(figsize = (8,8))\n",
    "plt.scatter(p[:,6], np.mean(bin3p,axis=1))"
   ]
  },
  {
   "cell_type": "code",
   "execution_count": 14,
   "metadata": {
    "collapsed": false
   },
   "outputs": [
    {
     "data": {
      "text/plain": [
       "<matplotlib.image.AxesImage at 0x937591ee10>"
      ]
     },
     "execution_count": 14,
     "metadata": {},
     "output_type": "execute_result"
    },
    {
     "data": {
      "image/png": "[encoded data removed]",
      "text/plain": [
       "<Figure size 576x576 with 1 Axes>"
      ]
     },
     "metadata": {},
     "output_type": "display_data"
    }
   ],
   "source": [
    "plt.figure(figsize=(8,8))\n",
    "plt.imshow(bin3p[:100,:])"
   ]
  },
  {
   "cell_type": "code",
   "execution_count": 15,
   "metadata": {
    "collapsed": true
   },
   "outputs": [],
   "source": [
    "bin1 = np.array(raw['bin_ant_1'])\n",
    "bin2 = np.array(raw['bin_ant_2'])\n",
    "bin3 = np.array(raw['bin_ant_3'])"
   ]
  },
  {
   "cell_type": "code",
   "execution_count": 18,
   "metadata": {
    "collapsed": false
   },
   "outputs": [],
   "source": [
    "display = np.concatenate([bin1, bin2, bin3], axis=1)"
   ]
  },
  {
   "cell_type": "code",
   "execution_count": 23,
   "metadata": {
    "collapsed": false
   },
   "outputs": [
    {
     "data": {
      "text/plain": [
       "<matplotlib.image.AxesImage at 0x9360fc9390>"
      ]
     },
     "execution_count": 23,
     "metadata": {},
     "output_type": "execute_result"
    },
    {
     "data": {
      "image/png": "[encoded data removed]",
      "text/plain": [
       "<Figure size 1152x1152 with 1 Axes>"
      ]
     },
     "metadata": {},
     "output_type": "display_data"
    }
   ],
   "source": [
    "plt.figure(figsize=(16,16))\n",
    "plt.imshow(display[:100])"
   ]
  },
  {
   "cell_type": "code",
   "execution_count": null,
   "metadata": {
    "collapsed": true
   },
   "outputs": [],
   "source": []
  }
 ],
 "metadata": {
  "kernelspec": {
   "display_name": "Python 3",
   "language": "python",
   "name": "python3"
  },
  "language_info": {
   "codemirror_mode": {
    "name": "ipython",
    "version": 3
   },
   "file_extension": ".py",
   "mimetype": "text/x-python",
   "name": "python",
   "nbconvert_exporter": "python",
   "pygments_lexer": "ipython3",
   "version": "3.6.8"
  }
 },
 "nbformat": 4,
 "nbformat_minor": 2
}
