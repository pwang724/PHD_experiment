{
 "cells": [
  {
   "cell_type": "code",
   "execution_count": 31,
   "metadata": {
    "collapsed": false
   },
   "outputs": [],
   "source": [
    "import numpy as np\n",
    "import os\n",
    "import glob\n",
    "from collections import defaultdict\n",
    "import pickle"
   ]
  },
  {
   "cell_type": "code",
   "execution_count": 48,
   "metadata": {
    "collapsed": false
   },
   "outputs": [],
   "source": [
    "data_path = r'C:\\Users\\P\\Desktop\\PYTHON\\PHD_experiment\\_DATA\\timepoint\\OFC_COMPOSITE\\M2_OFC'"
   ]
  },
  {
   "cell_type": "code",
   "execution_count": 49,
   "metadata": {
    "collapsed": false
   },
   "outputs": [
    {
     "data": {
      "text/plain": [
       "['C:\\\\Users\\\\P\\\\Desktop\\\\PYTHON\\\\PHD_experiment\\\\_DATA\\\\timepoint\\\\OFC_COMPOSITE\\\\M2_OFC__04-16-2018__360.npy',\n",
       " 'C:\\\\Users\\\\P\\\\Desktop\\\\PYTHON\\\\PHD_experiment\\\\_DATA\\\\timepoint\\\\OFC_COMPOSITE\\\\M2_OFC__04-18-2018__360.npy',\n",
       " 'C:\\\\Users\\\\P\\\\Desktop\\\\PYTHON\\\\PHD_experiment\\\\_DATA\\\\timepoint\\\\OFC_COMPOSITE\\\\M2_OFC__04-19-2018__360.npy',\n",
       " 'C:\\\\Users\\\\P\\\\Desktop\\\\PYTHON\\\\PHD_experiment\\\\_DATA\\\\timepoint\\\\OFC_COMPOSITE\\\\M2_OFC__04-20-2018__360.npy',\n",
       " 'C:\\\\Users\\\\P\\\\Desktop\\\\PYTHON\\\\PHD_experiment\\\\_DATA\\\\timepoint\\\\OFC_COMPOSITE\\\\M2_OFC__04-21-2018__360.npy',\n",
       " 'C:\\\\Users\\\\P\\\\Desktop\\\\PYTHON\\\\PHD_experiment\\\\_DATA\\\\timepoint\\\\OFC_COMPOSITE\\\\M2_OFC__04-22-2018__360.npy',\n",
       " 'C:\\\\Users\\\\P\\\\Desktop\\\\PYTHON\\\\PHD_experiment\\\\_DATA\\\\timepoint\\\\OFC_COMPOSITE\\\\M2_OFC__04-23-2018__360.npy',\n",
       " 'C:\\\\Users\\\\P\\\\Desktop\\\\PYTHON\\\\PHD_experiment\\\\_DATA\\\\timepoint\\\\OFC_COMPOSITE\\\\M2_OFC__04-24-2018__360.npy',\n",
       " 'C:\\\\Users\\\\P\\\\Desktop\\\\PYTHON\\\\PHD_experiment\\\\_DATA\\\\timepoint\\\\OFC_COMPOSITE\\\\M2_OFC__04-25-2018__360.npy',\n",
       " 'C:\\\\Users\\\\P\\\\Desktop\\\\PYTHON\\\\PHD_experiment\\\\_DATA\\\\timepoint\\\\OFC_COMPOSITE\\\\M2_OFC__04-26-2018__360.npy']"
      ]
     },
     "execution_count": 49,
     "metadata": {},
     "output_type": "execute_result"
    }
   ],
   "source": [
    "data_pathnames = sorted(glob.glob(os.path.join(data_path + '*.npy')))\n",
    "data_pathnames"
   ]
  },
  {
   "cell_type": "code",
   "execution_count": 50,
   "metadata": {
    "collapsed": false
   },
   "outputs": [],
   "source": [
    "x = [np.load(d) for d in data_pathnames]"
   ]
  },
  {
   "cell_type": "code",
   "execution_count": 51,
   "metadata": {
    "collapsed": false
   },
   "outputs": [
    {
     "data": {
      "text/plain": [
       "[(95, 3000),\n",
       " (95, 3225),\n",
       " (95, 3150),\n",
       " (95, 3000),\n",
       " (95, 6075),\n",
       " (95, 4875),\n",
       " (95, 4500),\n",
       " (95, 4500),\n",
       " (95, 4500),\n",
       " (95, 4500)]"
      ]
     },
     "execution_count": 51,
     "metadata": {},
     "output_type": "execute_result"
    }
   ],
   "source": [
    "[x.shape for x in x]"
   ]
  },
  {
   "cell_type": "code",
   "execution_count": 54,
   "metadata": {
    "collapsed": false
   },
   "outputs": [],
   "source": [
    "def load_all_cons(data_path):\n",
    "    res = defaultdict(list)\n",
    "\n",
    "    config_pathnames = sorted(glob.glob(os.path.join(data_path + '*.pkl')))\n",
    "    for i, config_pn in enumerate(config_pathnames):\n",
    "        with open(config_pn, \"rb\") as f:\n",
    "            cons = pickle.load(f)\n",
    "        for key, val in cons.__dict__.items():\n",
    "            if isinstance(val, list):\n",
    "                res[key].append(np.array(val))\n",
    "            else:\n",
    "                res[key].append(val)\n",
    "    for key, val in res.items():\n",
    "        if key == 'DAQ_DATA':\n",
    "            arr = np.empty(len(val), dtype='object')\n",
    "            for i, v in enumerate(val):\n",
    "                arr[i] = v\n",
    "            res[key] = arr\n",
    "        else:\n",
    "            res[key] = np.array(val)\n",
    "    return res"
   ]
  },
  {
   "cell_type": "code",
   "execution_count": 55,
   "metadata": {
    "collapsed": false
   },
   "outputs": [],
   "source": [
    "res = load_all_cons(data_path)"
   ]
  },
  {
   "cell_type": "code",
   "execution_count": 56,
   "metadata": {
    "collapsed": false
   },
   "outputs": [
    {
     "data": {
      "text/plain": [
       "dict_keys(['DAQ_W_ON', 'DAQ_L', 'FILE_BANDPASS', 'KEY_EFTY', 'DAQ_W', 'DIR_RAW', 'FOLDER_ANALYSIS', 'NAME_PLANE', 'DIR_ORIG', 'DIR', 'DAQ_O_ON_F', 'ODOR_TRIALIDX', 'FORMAT', 'DIR_STORAGE_EFTY', 'FORMAT_READ', 'STORAGE_EFTY', 'DEFAULT_O_ON', 'DEFAULT_O_OFF', 'DIR_VIZ_PICS', 'NAME_MOUSE', 'NAME_DATE', 'DIR_EFTY_SEPCAT', 'ODOR_TRIALS', 'DIR_EFTY_SEP', 'DAQ_DATA', 'TRIAL_FRAMES', 'DAQ_O_ON', 'DIR_EFTY_SEPK', 'DAQ_O_OFF_F', 'DAQ_O_OFF', 'DAQ_W_ON_F', 'DAQ_SAMP', 'STORAGE_ROI', 'TRIAL_PERIOD', 'DIR_STORAGE_DATA', 'DAQ_O', 'STORAGE_DATA', 'ODOR_UNIQUE', 'DIR_STORAGE_ROI'])"
      ]
     },
     "execution_count": 56,
     "metadata": {},
     "output_type": "execute_result"
    }
   ],
   "source": [
    "res.keys()"
   ]
  },
  {
   "cell_type": "code",
   "execution_count": 58,
   "metadata": {
    "collapsed": false
   },
   "outputs": [
    {
     "data": {
      "text/plain": [
       "array([25, 25, 25, 25, 25, 25, 25, 25, 25, 25])"
      ]
     },
     "execution_count": 58,
     "metadata": {},
     "output_type": "execute_result"
    }
   ],
   "source": [
    "res['DAQ_O_ON_F']"
   ]
  },
  {
   "cell_type": "code",
   "execution_count": null,
   "metadata": {
    "collapsed": true
   },
   "outputs": [],
   "source": []
  }
 ],
 "metadata": {
  "kernelspec": {
   "display_name": "Python 3",
   "language": "python",
   "name": "python3"
  },
  "language_info": {
   "codemirror_mode": {
    "name": "ipython",
    "version": 3
   },
   "file_extension": ".py",
   "mimetype": "text/x-python",
   "name": "python",
   "nbconvert_exporter": "python",
   "pygments_lexer": "ipython3",
   "version": "3.6.8"
  }
 },
 "nbformat": 4,
 "nbformat_minor": 2
}
