{
 "cells": [
  {
   "cell_type": "code",
   "execution_count": 1,
   "metadata": {
    "collapsed": false
   },
   "outputs": [
    {
     "ename": "ModuleNotFoundError",
     "evalue": "No module named 'psth.format'",
     "output_type": "error",
     "traceback": [
      "\u001b[0;31m---------------------------------------------------------------------------\u001b[0m",
      "\u001b[0;31mModuleNotFoundError\u001b[0m                       Traceback (most recent call last)",
      "\u001b[0;32m<ipython-input-1-818d3a19252f>\u001b[0m in \u001b[0;36m<module>\u001b[0;34m()\u001b[0m\n\u001b[1;32m      9\u001b[0m \u001b[1;32mimport\u001b[0m \u001b[0mmatplotlib\u001b[0m\u001b[1;33m.\u001b[0m\u001b[0mpyplot\u001b[0m \u001b[1;32mas\u001b[0m \u001b[0mplt\u001b[0m\u001b[1;33m\u001b[0m\u001b[1;33m\u001b[0m\u001b[0m\n\u001b[1;32m     10\u001b[0m \u001b[1;32mimport\u001b[0m \u001b[0mmatplotlib\u001b[0m \u001b[1;32mas\u001b[0m \u001b[0mmpl\u001b[0m\u001b[1;33m\u001b[0m\u001b[1;33m\u001b[0m\u001b[0m\n\u001b[0;32m---> 11\u001b[0;31m \u001b[1;32mfrom\u001b[0m \u001b[0mpsth\u001b[0m\u001b[1;33m.\u001b[0m\u001b[0mformat\u001b[0m \u001b[1;32mimport\u001b[0m \u001b[1;33m*\u001b[0m\u001b[1;33m\u001b[0m\u001b[1;33m\u001b[0m\u001b[0m\n\u001b[0m\u001b[1;32m     12\u001b[0m \u001b[1;32mfrom\u001b[0m \u001b[0mcollections\u001b[0m \u001b[1;32mimport\u001b[0m \u001b[0mdefaultdict\u001b[0m\u001b[1;33m\u001b[0m\u001b[1;33m\u001b[0m\u001b[0m\n\u001b[1;32m     13\u001b[0m \u001b[1;33m\u001b[0m\u001b[0m\n",
      "\u001b[0;31mModuleNotFoundError\u001b[0m: No module named 'psth.format'"
     ]
    }
   ],
   "source": [
    "import numpy as np\n",
    "import os\n",
    "import glob\n",
    "from _CONSTANTS.config import Config\n",
    "import  behavior.cristian_behavior_analysis as analysis\n",
    "import filter\n",
    "import reduce\n",
    "import plot\n",
    "import matplotlib.pyplot as plt\n",
    "import matplotlib as mpl\n",
    "from psth.format import *\n",
    "from collections import defaultdict\n",
    "\n",
    "mpl.rcParams['pdf.fonttype'] = 42\n",
    "mpl.rcParams['ps.fonttype'] = 42\n",
    "mpl.rcParams['font.family'] = 'arial'\n",
    "ax_args_copy = ax_args.copy()\n",
    "ax_args_copy.update({'ylim':[-5, 85], 'yticks':[0, 40, 80]})\n",
    "bool_ax_args_copy = ax_args.copy()\n",
    "bool_ax_args_copy.update({'ylim':[-0.05, 1.05], 'yticks':[0, .5, 1]})\n",
    "\n",
    "class OFC_PT_Config():\n",
    "    path = r'C:\\Users\\P\\Desktop\\MANUSCRIPT_DATA\\Nikki Data\\OFC Pretraining'\n",
    "    # phase = 'PT'\n",
    "    name = 'OFC_PT'\n",
    "\n",
    "class OFC_PT_RELEASED_Config():\n",
    "    path = r'C:\\Users\\P\\Desktop\\MANUSCRIPT_DATA\\Nikki Data\\OFC Pretraining\\Pretraining, Laser OFF'\n",
    "    phase = 'PT'\n",
    "    name = 'OFC_PT_RELEASED'\n",
    "\n",
    "class OFC_DT_HALO_PT_Config():\n",
    "    path = r'C:\\Users\\P\\Desktop\\MANUSCRIPT_DATA\\Nikki Data\\OFC Discrim\\PT'\n",
    "    phase = 'DT'\n",
    "    name = 'OFC_DT_HALO_PT'\n",
    "\n",
    "class OFC_DT_HALO_DT_Config():\n",
    "    path = r'C:\\Users\\P\\Desktop\\MANUSCRIPT_DATA\\Nikki Data\\OFC Discrim\\PT'\n",
    "    phase = 'DT'\n",
    "    name = 'OFC_DT_HALO_DT'\n",
    "\n",
    "class MPFC_PT_Config():\n",
    "    path = r'C:\\Users\\P\\Desktop\\MANUSCRIPT_DATA\\Nikki Data\\OFC Discrim\\Discrimination'\n",
    "    phase = 'PT'\n",
    "    name = 'MPFC_PT'\n",
    "\n",
    "indices = analysis.Indices()\n",
    "constants = analysis.Constants()\n",
    "config = Config()\n",
    "\n",
    "experiment = OFC_PT_Config\n",
    "save_path = os.path.join(Config.LOCAL_FIGURE_PATH, 'BEHAVIOR_CRISTIAN', experiment.name)\n",
    "directories = [constants.pretraining_directory, constants.discrimination_directory]\n",
    "res = defaultdict(list)\n",
    "for directory in directories:\n",
    "    halo_files = sorted(glob.glob(os.path.join(experiment.path, directory, constants.halo + '*')))\n",
    "    yfp_files = sorted(glob.glob(os.path.join(experiment.path, directory, constants.yfp + '*')))\n",
    "    res1 = analysis.parse(halo_files, experiment=experiment, condition=constants.halo, phase = directory)\n",
    "    res2 = analysis.parse(yfp_files, experiment=experiment, condition=constants.yfp, phase = directory)\n",
    "    reduce.chain_defaultdicts(res, res1)\n",
    "    reduce.chain_defaultdicts(res, res2)\n",
    "analysis.analyze(res)"
   ]
  },
  {
   "cell_type": "code",
   "execution_count": 3,
   "metadata": {
    "collapsed": false
   },
   "outputs": [],
   "source": [
    "combs, ixs = filter.retrieve_unique_entries(res, ['mouse'])"
   ]
  },
  {
   "cell_type": "code",
   "execution_count": 4,
   "metadata": {
    "collapsed": false
   },
   "outputs": [
    {
     "data": {
      "text/plain": [
       "[('H01',),\n",
       " ('H02',),\n",
       " ('H03',),\n",
       " ('H04',),\n",
       " ('H05',),\n",
       " ('Y01',),\n",
       " ('Y02',),\n",
       " ('Y03',),\n",
       " ('Y04',),\n",
       " ('Y05',),\n",
       " ('Y06',)]"
      ]
     },
     "execution_count": 4,
     "metadata": {},
     "output_type": "execute_result"
    }
   ],
   "source": [
    "combs"
   ]
  },
  {
   "cell_type": "code",
   "execution_count": 5,
   "metadata": {
    "collapsed": false
   },
   "outputs": [
    {
     "data": {
      "text/plain": [
       "[array([0, 1], dtype=int64),\n",
       " array([2, 3], dtype=int64),\n",
       " array([ 4,  5, 22, 23], dtype=int64),\n",
       " array([6, 7], dtype=int64),\n",
       " array([ 8,  9, 24, 25], dtype=int64),\n",
       " array([10, 11, 26, 27], dtype=int64),\n",
       " array([12, 13, 28, 29], dtype=int64),\n",
       " array([14, 15, 30, 31], dtype=int64),\n",
       " array([16, 17, 32, 33], dtype=int64),\n",
       " array([18, 19, 34, 35], dtype=int64),\n",
       " array([20, 21, 36, 37], dtype=int64)]"
      ]
     },
     "execution_count": 5,
     "metadata": {},
     "output_type": "execute_result"
    }
   ],
   "source": [
    "ixs"
   ]
  },
  {
   "cell_type": "code",
   "execution_count": 22,
   "metadata": {
    "collapsed": true
   },
   "outputs": [],
   "source": [
    "ix = ixs[2]\n",
    "comb = combs[2]"
   ]
  },
  {
   "cell_type": "code",
   "execution_count": 23,
   "metadata": {
    "collapsed": true
   },
   "outputs": [],
   "source": [
    "        phases = res['phase'][ix]\n",
    "        pt_mask = ix[phases == 'Pretraining']\n",
    "        dt_mask = ix[phases == 'Discrimination']\n",
    "\n",
    "        pt_trials = res['trials'][pt_mask]\n",
    "        total_pt_trials = np.sum([len(x) for x in pt_trials])\n",
    "        dt_trials = res['trials'][dt_mask]\n",
    "        modified_dt_trials = [x + total_pt_trials for x in dt_trials]\n",
    "        res['trials'][dt_mask] = modified_dt_trials"
   ]
  },
  {
   "cell_type": "code",
   "execution_count": 26,
   "metadata": {
    "collapsed": false
   },
   "outputs": [
    {
     "data": {
      "text/plain": [
       "array([22, 23], dtype=int64)"
      ]
     },
     "execution_count": 26,
     "metadata": {},
     "output_type": "execute_result"
    }
   ],
   "source": []
  },
  {
   "cell_type": "code",
   "execution_count": null,
   "metadata": {
    "collapsed": true
   },
   "outputs": [],
   "source": []
  }
 ],
 "metadata": {
  "kernelspec": {
   "display_name": "Python 3",
   "language": "python",
   "name": "python3"
  },
  "language_info": {
   "codemirror_mode": {
    "name": "ipython",
    "version": 3
   },
   "file_extension": ".py",
   "mimetype": "text/x-python",
   "name": "python",
   "nbconvert_exporter": "python",
   "pygments_lexer": "ipython3",
   "version": "3.6.8"
  }
 },
 "nbformat": 4,
 "nbformat_minor": 2
}
