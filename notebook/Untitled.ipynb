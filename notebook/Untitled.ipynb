{
 "cells": [
  {
   "cell_type": "code",
   "execution_count": 2,
   "metadata": {
    "collapsed": false
   },
   "outputs": [],
   "source": [
    "%matplotlib inline\n",
    "import numpy as np\n",
    "import glob\n",
    "import os\n",
    "import scipy.io as io\n",
    "import matplotlib.pyplot as plt"
   ]
  },
  {
   "cell_type": "code",
   "execution_count": 4,
   "metadata": {
    "collapsed": false
   },
   "outputs": [],
   "source": [
    "import numpy as np\n",
    "import glob\n",
    "import os\n",
    "import scipy.io as io\n",
    "import matplotlib.pyplot as plt\n",
    "import matplotlib as mpl\n",
    "from format import *\n",
    "from plot import _easy_save\n",
    "from scipy.stats import sem"
   ]
  },
  {
   "cell_type": "code",
   "execution_count": 28,
   "metadata": {
    "collapsed": true
   },
   "outputs": [],
   "source": [
    "d = r'C:\\Users\\P\\Desktop\\MANUSCRIPT_DATA\\Cristian Tetrodes Halo Data\\0'"
   ]
  },
  {
   "cell_type": "code",
   "execution_count": 30,
   "metadata": {
    "collapsed": false
   },
   "outputs": [],
   "source": [
    "eventFile = os.path.join(d, 'events_ChR2.mat')\n",
    "events = io.loadmat(eventFile)\n",
    "events = events['events']\n",
    "# events = np.round(events[:,0] * 1000).astype(int)"
   ]
  },
  {
   "cell_type": "code",
   "execution_count": 31,
   "metadata": {
    "collapsed": false
   },
   "outputs": [
    {
     "data": {
      "text/plain": [
       "array([[   12.437125,    22.442875],\n",
       "       [    0.      ,     0.      ],\n",
       "       [    0.      ,     0.      ],\n",
       "       [   38.93695 ,    48.9432  ],\n",
       "       [   59.336925,    69.342325],\n",
       "       [    0.      ,     0.      ],\n",
       "       [    0.      ,     0.      ],\n",
       "       [   85.8964  ,    95.90225 ],\n",
       "       [  106.33665 ,   116.34225 ],\n",
       "       [    0.      ,     0.      ],\n",
       "       [    0.      ,     0.      ],\n",
       "       [  132.897175,   142.90255 ],\n",
       "       [  153.23645 ,   163.24185 ],\n",
       "       [    0.      ,     0.      ],\n",
       "       [    0.      ,     0.      ],\n",
       "       [  179.79685 ,   189.802625],\n",
       "       [  200.2371  ,   210.2426  ],\n",
       "       [    0.      ,     0.      ],\n",
       "       [    0.      ,     0.      ],\n",
       "       [  226.7967  ,   236.802275],\n",
       "       [  247.236775,   257.242725],\n",
       "       [    0.      ,     0.      ],\n",
       "       [    0.      ,     0.      ],\n",
       "       [  273.73735 ,   283.74315 ],\n",
       "       [  294.13655 ,   304.142175],\n",
       "       [    0.      ,     0.      ],\n",
       "       [    0.      ,     0.      ],\n",
       "       [  320.69725 ,   330.70285 ],\n",
       "       [  341.1373  ,   351.14305 ],\n",
       "       [    0.      ,     0.      ],\n",
       "       [    0.      ,     0.      ],\n",
       "       [  367.63685 ,   377.642575],\n",
       "       [  388.0371  ,   398.042475],\n",
       "       [    0.      ,     0.      ],\n",
       "       [    0.      ,     0.      ],\n",
       "       [  414.597625,   424.6033  ],\n",
       "       [  434.936725,   444.9433  ],\n",
       "       [    0.      ,     0.      ],\n",
       "       [    0.      ,     0.      ],\n",
       "       [  461.43855 ,   471.4451  ],\n",
       "       [  481.737375,   491.743025],\n",
       "       [    0.      ,     0.      ],\n",
       "       [    0.      ,     0.      ],\n",
       "       [  672.772225,  1273.157225]])"
      ]
     },
     "execution_count": 31,
     "metadata": {},
     "output_type": "execute_result"
    }
   ],
   "source": [
    "events[:,0:2]"
   ]
  },
  {
   "cell_type": "code",
   "execution_count": 13,
   "metadata": {
    "collapsed": false
   },
   "outputs": [
    {
     "data": {
      "text/plain": [
       "(44, 25)"
      ]
     },
     "execution_count": 13,
     "metadata": {},
     "output_type": "execute_result"
    }
   ],
   "source": [
    "events.shape"
   ]
  },
  {
   "cell_type": "code",
   "execution_count": 21,
   "metadata": {
    "collapsed": false
   },
   "outputs": [
    {
     "data": {
      "text/plain": [
       "<matplotlib.image.AxesImage at 0x50de2bfc50>"
      ]
     },
     "execution_count": 21,
     "metadata": {},
     "output_type": "execute_result"
    },
    {
     "data": {
      "image/png": "[encoded data removed]",
      "text/plain": [
       "<Figure size 640x480 with 1 Axes>"
      ]
     },
     "metadata": {},
     "output_type": "display_data"
    }
   ],
   "source": [
    "plt.imshow(events)"
   ]
  },
  {
   "cell_type": "code",
   "execution_count": 54,
   "metadata": {
    "collapsed": true
   },
   "outputs": [],
   "source": [
    "spikeFile = r'C:\\Users\\P\\Desktop\\MANUSCRIPT_DATA\\Cristian Tetrodes Halo Data\\0\\kwik_spikes.mat'"
   ]
  },
  {
   "cell_type": "code",
   "execution_count": 55,
   "metadata": {
    "collapsed": false
   },
   "outputs": [],
   "source": [
    "data = io.loadmat(spikeFile)"
   ]
  },
  {
   "cell_type": "code",
   "execution_count": 56,
   "metadata": {
    "collapsed": false
   },
   "outputs": [
    {
     "data": {
      "text/plain": [
       "{'__globals__': [],\n",
       " '__header__': b'MATLAB 5.0 MAT-file, Platform: PCWIN64, Created on: Wed Dec 07 11:27:01 2016',\n",
       " '__version__': '1.0',\n",
       " 'spikeIDtiming': array([], shape=(0, 3), dtype=int32)}"
      ]
     },
     "execution_count": 56,
     "metadata": {},
     "output_type": "execute_result"
    }
   ],
   "source": [
    "data"
   ]
  },
  {
   "cell_type": "code",
   "execution_count": 57,
   "metadata": {
    "collapsed": false
   },
   "outputs": [
    {
     "data": {
      "text/plain": [
       "{'__globals__': [],\n",
       " '__header__': b'MATLAB 5.0 MAT-file, Platform: PCWIN64, Created on: Wed Dec 07 11:27:01 2016',\n",
       " '__version__': '1.0',\n",
       " 'spikeIDtiming': array([], shape=(0, 3), dtype=int32)}"
      ]
     },
     "execution_count": 57,
     "metadata": {},
     "output_type": "execute_result"
    }
   ],
   "source": [
    "data"
   ]
  },
  {
   "cell_type": "code",
   "execution_count": 58,
   "metadata": {
    "collapsed": true
   },
   "outputs": [],
   "source": [
    "d = r'C:\\Users\\P\\Desktop\\MANUSCRIPT_DATA\\Cristian Tetrodes Halo Data\\0\\2016.07.31.shank1.kwik'"
   ]
  },
  {
   "cell_type": "code",
   "execution_count": 59,
   "metadata": {
    "collapsed": true
   },
   "outputs": [],
   "source": [
    "import h5py"
   ]
  },
  {
   "cell_type": "code",
   "execution_count": 60,
   "metadata": {
    "collapsed": true
   },
   "outputs": [],
   "source": [
    "f = h5py.File(d, 'r')"
   ]
  },
  {
   "cell_type": "code",
   "execution_count": 65,
   "metadata": {
    "collapsed": false
   },
   "outputs": [
    {
     "data": {
      "text/plain": [
       "<KeysViewHDF5 ['application_data', 'channel_groups', 'recordings']>"
      ]
     },
     "execution_count": 65,
     "metadata": {},
     "output_type": "execute_result"
    }
   ],
   "source": [
    "f.keys()"
   ]
  },
  {
   "cell_type": "code",
   "execution_count": 86,
   "metadata": {
    "collapsed": false
   },
   "outputs": [
    {
     "data": {
      "text/plain": [
       "<HDF5 dataset \"time_samples\": shape (8003,), type \"<u8\">"
      ]
     },
     "execution_count": 86,
     "metadata": {},
     "output_type": "execute_result"
    }
   ],
   "source": [
    "f['channel_groups']['0']['spikes']['time_samples']"
   ]
  },
  {
   "cell_type": "code",
   "execution_count": 93,
   "metadata": {
    "collapsed": false
   },
   "outputs": [
    {
     "data": {
      "text/plain": [
       "<KeysViewHDF5 ['channels', 'cluster_groups', 'clusters', 'spikes']>"
      ]
     },
     "execution_count": 93,
     "metadata": {},
     "output_type": "execute_result"
    }
   ],
   "source": [
    "f['channel_groups']['0'].keys()"
   ]
  },
  {
   "cell_type": "code",
   "execution_count": 95,
   "metadata": {
    "collapsed": false
   },
   "outputs": [
    {
     "data": {
      "text/plain": [
       "<KeysViewHDF5 ['clusters', 'recording', 'time_fractional', 'time_samples']>"
      ]
     },
     "execution_count": 95,
     "metadata": {},
     "output_type": "execute_result"
    }
   ],
   "source": [
    "f['channel_groups']['0']['spikes'].keys()"
   ]
  },
  {
   "cell_type": "code",
   "execution_count": 101,
   "metadata": {
    "collapsed": false
   },
   "outputs": [
    {
     "data": {
      "text/plain": [
       "<HDF5 dataset \"main\": shape (8003,), type \"<i4\">"
      ]
     },
     "execution_count": 101,
     "metadata": {},
     "output_type": "execute_result"
    }
   ],
   "source": [
    "f['channel_groups']['0']['spikes']['clusters']['main']"
   ]
  },
  {
   "cell_type": "code",
   "execution_count": null,
   "metadata": {
    "collapsed": true
   },
   "outputs": [],
   "source": []
  }
 ],
 "metadata": {
  "kernelspec": {
   "display_name": "Python 3",
   "language": "python",
   "name": "python3"
  },
  "language_info": {
   "codemirror_mode": {
    "name": "ipython",
    "version": 3
   },
   "file_extension": ".py",
   "mimetype": "text/x-python",
   "name": "python",
   "nbconvert_exporter": "python",
   "pygments_lexer": "ipython3",
   "version": "3.4.5"
  }
 },
 "nbformat": 4,
 "nbformat_minor": 2
}
