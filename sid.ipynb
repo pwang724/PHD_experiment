{
 "cells": [
  {
   "cell_type": "code",
   "execution_count": 1,
   "metadata": {
    "collapsed": true
   },
   "outputs": [],
   "source": [
    "import numpy as np\n",
    "import tools.file_io\n",
    "import os\n",
    "import matplotlib.pyplot as plt"
   ]
  },
  {
   "cell_type": "code",
   "execution_count": 2,
   "outputs": [],
   "source": [
    "d = r'D:\\_DATA\\timepoint\\OFC' # modify directory path\n",
    "npf = r'M187_ofc__7-19-2016__420.npy'\n",
    "pklf = r'M187_ofc__7-19-2016__420.pkl'\n",
    "\n",
    "npf = os.path.join(d, npf)\n",
    "pklf = os.path.join(d, pklf)"
   ],
   "metadata": {
    "collapsed": false,
    "pycharm": {
     "name": "#%%\n"
    }
   }
  },
  {
   "cell_type": "code",
   "execution_count": 3,
   "outputs": [
    {
     "data": {
      "text/plain": "(73, 4425)"
     },
     "execution_count": 3,
     "metadata": {},
     "output_type": "execute_result"
    }
   ],
   "source": [
    "dff = tools.file_io.load_numpy(npf)\n",
    "dff.shape"
   ],
   "metadata": {
    "collapsed": false,
    "pycharm": {
     "name": "#%%\n"
    }
   }
  },
  {
   "cell_type": "code",
   "execution_count": 4,
   "outputs": [
    {
     "name": "stdout",
     "output_type": "stream",
     "text": [
      "[***] CONFIG[***]\n",
      "DIR                 : E:\\IMPORTANT DATA\\DATA_2P\\M187_ofc\\7-19-2016\\420                                                    \n",
      "FILE_BANDPASS       : E:\\IMPORTANT DATA\\DATA_X\\M187_ofc\\7-19-2016\\m.tif                                                   \n",
      "DAQ_SAMP            : 50.0                                                                                                \n",
      "DAQ_W_ON_F          : 44                                                                                                  \n",
      "DEFAULT_O_OFF       : 7.7                                                                                                 \n",
      "DAQ_O_ON_F          : 30                                                                                                  \n",
      "NAME_MOUSE          : M187_ofc                                                                                            \n",
      "KEY_EFTY            : _EFTY                                                                                               \n",
      "DIR_STORAGE_ROI     : E:\\IMPORTANT DATA\\STORAGE_ROI                                                                       \n",
      "TRIAL_PERIOD        : 0.229711903005393                                                                                   \n",
      "ODOR_TRIALS         : ['2pe', 'msy', 'pin', 'euy', 'lim', '4mt', '2pe', 'msy', 'pin', 'euy', 'lim', '4mt', '4mt', 'euy', 'pin', 'lim', '2pe', 'msy', '4mt', 'euy', 'pin', 'lim', 'msy', 'lim', 'pin', 'euy', 'msy', '4mt', '2pe', 'lim', 'pin', 'euy', 'msy', '4mt', '2pe', 'pin', 'euy', 'msy', '2pe', '4mt', 'lim', 'pin', 'euy', 'msy', '2pe', '4mt', 'lim', '4mt', '2pe', 'pin', 'euy', 'lim', 'msy', '4mt', '2pe', 'pin', 'euy', 'lim', 'msy']\n",
      "DIR_EFTY_SEPK       : E:\\IMPORTANT DATA\\DATA_X\\M187_ofc\\7-19-2016\\420__EFTYfk                                             \n",
      "DAQ_O               : 1                                                                                                   \n",
      "STORAGE_ROI         : E:\\IMPORTANT DATA\\STORAGE_ROI\\M187_ofc_7-19-2016_420.mat                                            \n",
      "DIR_ORIG            : E:\\IMPORTANT DATA\\DATA_2P\\M187_ofc\\7-19-2016\\420_cycle                                              \n",
      "DIR_EFTY_SEPCAT     : None                                                                                                \n",
      "NAME_DATE           : 7-19-2016                                                                                           \n",
      "DIR_EFTY_SEP        : E:\\IMPORTANT DATA\\DATA_X\\M187_ofc\\7-19-2016\\420__EFTYf                                              \n",
      "DAQ_W_ON            : 10.02                                                                                               \n",
      "FORMAT              : cycle                                                                                               \n",
      "STORAGE_EFTY        : E:\\IMPORTANT DATA\\STORAGE_EFTY\\M187_ofc_7-19-2016_420.mat                                           \n",
      "DAQ_L               : 3                                                                                                   \n",
      "NAME_PLANE          : 420                                                                                                 \n",
      "TRIAL_FRAMES        : 75                                                                                                  \n",
      "DAQ_O_OFF_F         : 39                                                                                                  \n",
      "DIR_VIZ_PICS        : E:\\IMPORTANT DATA\\VIZ_PICS                                                                          \n",
      "FORMAT_READ         : tifstack                                                                                            \n",
      "DIR_STORAGE_DATA    : E:\\IMPORTANT DATA\\STORAGE_DATA                                                                      \n",
      "DAQ_DATA            : (1000, 9, 60)                                                                                       \n",
      "STORAGE_DATA        : E:\\IMPORTANT DATA\\STORAGE_DATA\\M187_ofc_7-19-2016_420.mat                                           \n",
      "DIR_RAW             : E:\\IMPORTANT DATA\\DATA_X\\M187_ofc\\7-19-2016\\420_                                                    \n",
      "DEFAULT_O_ON        : 5.7                                                                                                 \n",
      "ODOR_UNIQUE         : ['2pe' '4mt' 'euy' 'lim' 'msy' 'pin']                                                               \n",
      "DAQ_O_OFF           : 8.940000000000001                                                                                   \n",
      "DAQ_W               : 4                                                                                                   \n",
      "DIR_STORAGE_EFTY    : E:\\IMPORTANT DATA\\STORAGE_EFTY                                                                      \n",
      "FOLDER_ANALYSIS     : E:\\IMPORTANT DATA\\DATA_X                                                                            \n",
      "DAQ_O_ON            : 6.94                                                                                                \n",
      "ODOR_TRIALIDX       : [0 4 5 2 3 1 0 4 5 2 3 1 1 2 5 3 0 4 1 2 5 3 4 3 5 2 4 1 0 3 5 2 4 1 0 5 2\n",
      " 4 0 1 3 5 2 4 0 1 3 1 0 5 2 3 4 1 0 5 2 3 4]\n",
      "[***]/CONFIG[***]\n"
     ]
    }
   ],
   "source": [
    "daq = tools.file_io.load_pickle(pklf)\n",
    "print(daq)"
   ],
   "metadata": {
    "collapsed": false,
    "pycharm": {
     "name": "#%%\n"
    }
   }
  },
  {
   "cell_type": "code",
   "execution_count": 5,
   "outputs": [
    {
     "data": {
      "text/plain": "(1000, 9, 60)"
     },
     "execution_count": 5,
     "metadata": {},
     "output_type": "execute_result"
    }
   ],
   "source": [
    "daqdata = daq.DAQ_DATA\n",
    "daqdata.shape"
   ],
   "metadata": {
    "collapsed": false,
    "pycharm": {
     "name": "#%%\n"
    }
   }
  },
  {
   "cell_type": "code",
   "execution_count": null,
   "outputs": [],
   "source": [],
   "metadata": {
    "collapsed": false,
    "pycharm": {
     "name": "#%%\n"
    }
   }
  }
 ],
 "metadata": {
  "kernelspec": {
   "display_name": "Python 3",
   "language": "python",
   "name": "python3"
  },
  "language_info": {
   "codemirror_mode": {
    "name": "ipython",
    "version": 2
   },
   "file_extension": ".py",
   "mimetype": "text/x-python",
   "name": "python",
   "nbconvert_exporter": "python",
   "pygments_lexer": "ipython2",
   "version": "2.7.6"
  }
 },
 "nbformat": 4,
 "nbformat_minor": 0
}